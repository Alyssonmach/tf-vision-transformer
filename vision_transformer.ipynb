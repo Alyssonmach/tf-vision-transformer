{
  "cells": [
    {
      "cell_type": "markdown",
      "metadata": {
        "id": "enz5jLpcPLo2"
      },
      "source": [
        "# Image Classification with Vision Transformer\n",
        "Implementing the Vision Transformer (ViT) model for image classification."
      ]
    },
    {
      "cell_type": "markdown",
      "source": [
        "### Importing and Installing Packages"
      ],
      "metadata": {
        "id": "CiW7rmhEP-bi"
      }
    },
    {
      "cell_type": "code",
      "execution_count": null,
      "metadata": {
        "id": "In5gGnvuPLpD"
      },
      "outputs": [],
      "source": [
        "!pip install -U tensorflow-addons\n",
        "from tensorflow.keras import layers\n",
        "import tensorflow_addons as tfa\n",
        "import matplotlib.pyplot as plt\n",
        "from tensorflow import keras\n",
        "import tensorflow as tf\n",
        "import numpy as np"
      ]
    },
    {
      "cell_type": "markdown",
      "metadata": {
        "id": "7K4brEBvPLpG"
      },
      "source": [
        "### Downloading and Preparing the Data"
      ]
    },
    {
      "cell_type": "code",
      "source": [
        "num_classes = 100\n",
        "input_shape = (32, 32, 3)\n",
        "\n",
        "(x_train, y_train), (x_test, y_test) = keras.datasets.cifar100.load_data()\n",
        "print(f'X Train Shape: {x_train.shape} - Y Train Shape: {y_train.shape}')\n",
        "print(f'X Test Shape: {x_test.shape} - Y Test Shape: {y_test.shape}')"
      ],
      "metadata": {
        "id": "HBYH2nz4QYm4",
        "outputId": "f86e21a5-42d9-4469-dbed-a25dbbcc0f9b",
        "colab": {
          "base_uri": "https://localhost:8080/"
        }
      },
      "execution_count": 27,
      "outputs": [
        {
          "output_type": "stream",
          "name": "stdout",
          "text": [
            "X Train Shape: (50000, 32, 32, 3) - Y Train Shape: (50000, 1)\n",
            "X Test Shape: (10000, 32, 32, 3) - Y Test Shape: (10000, 1)\n"
          ]
        }
      ]
    },
    {
      "cell_type": "markdown",
      "metadata": {
        "id": "7NFXnyYjPLpI"
      },
      "source": [
        "### Configuring the Model Hyperparameters"
      ]
    },
    {
      "cell_type": "code",
      "source": [
        "learning_rate = 1e-3\n",
        "weight_decay = 1e-4\n",
        "batch_size = 256\n",
        "num_epochs = 100\n",
        "# we'll resize imput images to this size\n",
        "image_size = 72 \n",
        "# size of the patches to be extract from the input images\n",
        "patch_size = 6 \n",
        "num_patches = (image_size // patch_size) ** 2\n",
        "projection_dim = 64\n",
        "num_heads = 4\n",
        "# size of the transformer layers\n",
        "transformer_units = [projection_dim * 2, projection_dim] \n",
        "transformer_layers = 8\n",
        "# size of the dense layers of the final classifier\n",
        "mlp_head_units = [2048, 1024] "
      ],
      "metadata": {
        "id": "wlgMTY9kQ-Yk"
      },
      "execution_count": 4,
      "outputs": []
    },
    {
      "cell_type": "markdown",
      "metadata": {
        "id": "7vewxzPvPLpM"
      },
      "source": [
        "### Using Data Augmentation in Images"
      ]
    },
    {
      "cell_type": "code",
      "source": [
        "data_augmentation = keras.Sequential([\n",
        "  layers.Normalization(),\n",
        "  layers.Resizing(height = image_size, width = image_size),\n",
        "  layers.RandomFlip(mode = 'horizontal'),\n",
        "  layers.RandomRotation(factor = 2e-2),\n",
        "  layers.RandomZoom(height_factor = 0.2, width_factor = 0.2)],\n",
        "  name = 'data_augmentation')\n",
        "# compute the mean and the variance of the training data for normalization\n",
        "data_augmentation.layers[0].adapt(x_train)"
      ],
      "metadata": {
        "id": "EbtrQc-bTZ2U"
      },
      "execution_count": 31,
      "outputs": []
    },
    {
      "cell_type": "markdown",
      "metadata": {
        "id": "ALMyT3GcPLpR"
      },
      "source": [
        "### Implement Multilayer Perceptron (MLP)"
      ]
    },
    {
      "cell_type": "code",
      "source": [
        "def mlp(x, hidden_units, dropout_rate):\n",
        "  '''\n",
        "  defining a multilayer perceptrion with keras\n",
        "\n",
        "  Args:\n",
        "    x (tensor layer) --> layer that precedes the mlp\n",
        "    hidden_units (list) -->number of neurons in hidden layers\n",
        "    dropout_rate (float) --> dropout rate of the layer\n",
        "  \n",
        "  Returns:\n",
        "    x (tensor layer) --> last layer of mlp\n",
        "  '''\n",
        "\n",
        "  for units in hidden_units:\n",
        "    x = layers.Dense(units = units, activation = tf.nn.gelu)(x)\n",
        "    x = layers.Dropout(rate = dropout_rate)(x)\n",
        "  \n",
        "  return x"
      ],
      "metadata": {
        "id": "Q0mw-siEUpA0"
      },
      "execution_count": 6,
      "outputs": []
    },
    {
      "cell_type": "markdown",
      "metadata": {
        "id": "WQ5F4vGXPLpT"
      },
      "source": [
        "### Implement Patch Creation as a Layer"
      ]
    },
    {
      "cell_type": "code",
      "source": [
        "class Patches(layers.Layer):\n",
        "  '''class that splits images into patches'''\n",
        "\n",
        "  def __init__(self, patch_size):\n",
        "    '''\n",
        "    class constructor\n",
        "\n",
        "    Args:\n",
        "      patch_size (int) --> dimension of each image patch\n",
        "    '''\n",
        "\n",
        "    super(Patches, self).__init__()\n",
        "    self.patch_size = patch_size\n",
        "  \n",
        "  def call(self, images):\n",
        "    '''\n",
        "    script that runs when instantiating the class\n",
        "\n",
        "    Args:\n",
        "      images (array) --> array with the algorithm training images\n",
        "    \n",
        "    Returns:\n",
        "      patches (array) --> images split by patches\n",
        "    '''\n",
        "\n",
        "    batch_size = tf.shape(images)[0]\n",
        "    patches = tf.image.extract_patches(\n",
        "      images = images, \n",
        "      sizes = [1, self.patch_size, self.patch_size, 1],\n",
        "      strides = [1, self.patch_size, self.patch_size, 1],\n",
        "      rates = [1, 1, 1, 1], padding = 'VALID')\n",
        "\n",
        "    patch_dims = patches.shape[-1]\n",
        "    patches = tf.reshape(tensor = patches, shape = [batch_size, -1, patch_dims])\n",
        "\n",
        "    return patches"
      ],
      "metadata": {
        "id": "6tZ3IGF3WFK2"
      },
      "execution_count": 7,
      "outputs": []
    },
    {
      "cell_type": "code",
      "source": [
        "plt.figure(figsize = (4,4))\n",
        "image = x_train[np.random.choice(range(x_train.shape[0]))]\n",
        "plt.imshow(image.astype('uint8'))\n",
        "plt.axis('off')"
      ],
      "metadata": {
        "id": "VOHap5tRZBqh",
        "outputId": "8af898f7-6315-4119-b54d-bd5d4eaeec97",
        "colab": {
          "base_uri": "https://localhost:8080/",
          "height": 265
        }
      },
      "execution_count": 9,
      "outputs": [
        {
          "output_type": "execute_result",
          "data": {
            "text/plain": [
              "(-0.5, 31.5, 31.5, -0.5)"
            ]
          },
          "metadata": {},
          "execution_count": 9
        },
        {
          "output_type": "display_data",
          "data": {
            "image/png": "[encoded data removed]",
            "text/plain": [
              "<Figure size 288x288 with 1 Axes>"
            ]
          },
          "metadata": {
            "needs_background": "light"
          }
        }
      ]
    },
    {
      "cell_type": "code",
      "source": [
        "resized_image = tf.image.resize(images = tf.convert_to_tensor([image]), \n",
        "                                size = (image_size, image_size))\n",
        "patches = Patches(patch_size = patch_size)(images = resized_image)\n",
        "\n",
        "print(f'image size: {image_size} x {image_size}')\n",
        "print(f'patch size: {patch_size} x {patch_size}')\n",
        "print(f'patches per image: {patches.shape[1]}')\n",
        "print(f'elements per patch: {patches.shape[-1]}')"
      ],
      "metadata": {
        "id": "JOBw0YG7ZoIH",
        "outputId": "5650ac79-fd45-46c8-88d8-4e93eeb6b95e",
        "colab": {
          "base_uri": "https://localhost:8080/"
        }
      },
      "execution_count": 16,
      "outputs": [
        {
          "output_type": "stream",
          "name": "stdout",
          "text": [
            "image size: 72 x 72\n",
            "patch size: 6 x 6\n",
            "patches per image: 144\n",
            "elements per patch: 108\n"
          ]
        }
      ]
    },
    {
      "cell_type": "code",
      "execution_count": 18,
      "metadata": {
        "id": "yqWW4nPgPLpU",
        "outputId": "75c9bb92-edf5-4262-804b-9589b044f723",
        "colab": {
          "base_uri": "https://localhost:8080/",
          "height": 248
        }
      },
      "outputs": [
        {
          "output_type": "display_data",
          "data": {
            "image/png": "[encoded data removed]",
            "text/plain": [
              "<Figure size 288x288 with 144 Axes>"
            ]
          },
          "metadata": {
            "needs_background": "light"
          }
        }
      ],
      "source": [
        "n = int(np.sqrt(patches.shape[1]))\n",
        "plt.figure(figsize = (4, 4))\n",
        "for i, patch in enumerate(patches[0]):\n",
        "    ax = plt.subplot(n, n, i + 1)\n",
        "    patch_img = tf.reshape(tensor = patch, shape = (patch_size, patch_size, 3))\n",
        "    plt.imshow(patch_img.numpy().astype('uint8'))\n",
        "    plt.axis('off')"
      ]
    },
    {
      "cell_type": "markdown",
      "metadata": {
        "id": "oXpXguYaPLpV"
      },
      "source": [
        "### Implement the Patch Encoding Layer"
      ]
    },
    {
      "cell_type": "code",
      "source": [
        "class PatchEncoder(layers.Layer):\n",
        "  '''creates an encoded vector with the patched images'''\n",
        "\n",
        "  def __init__(self, num_patches, projection_dim):\n",
        "    '''\n",
        "    class constructor\n",
        "\n",
        "    Args:\n",
        "      num_patches (int) --> number of patches in each image\n",
        "      projection_dim --> number of neurons in the projection layer\n",
        "    '''\n",
        "\n",
        "    super(PatchEncoder, self).__init__()\n",
        "    self.num_patches = num_patches\n",
        "    self.projection = layers.Dense(units = projection_dim)\n",
        "    self.position_embedding = layers.Embedding(\n",
        "      input_dim = num_patches, output_dim = projection_dim)\n",
        "  \n",
        "  def call(self, patch):\n",
        "    '''\n",
        "    script that runs when instantiating the class\n",
        "    \n",
        "    Args:\n",
        "      patch (array) --> images separated by patches\n",
        "    \n",
        "    Returns:\n",
        "      encoded (tensor layer) --> vector encoded with image patches\n",
        "    '''\n",
        "\n",
        "    positions = tf.range(start = 0, limit = self.num_patches, delta = 1)\n",
        "    encoded = self.projection(patch) + self.position_embedding(positions)\n",
        "\n",
        "    return encoded"
      ],
      "metadata": {
        "id": "eZT15DNCtNy6"
      },
      "execution_count": 15,
      "outputs": []
    },
    {
      "cell_type": "markdown",
      "metadata": {
        "id": "JWxGNlC3PLpW"
      },
      "source": [
        "### Build the Vision Transformer (ViT) Model\n"
      ]
    },
    {
      "cell_type": "code",
      "source": [
        "def create_vit_classifier(input_shape, patch_size, num_patches, \n",
        "                          transformer_layers, projection_dim, num_heads, \n",
        "                          num_classes):\n",
        "  '''\n",
        "  construction of the model based on vision transformer\n",
        "  \n",
        "  Args:\n",
        "    input_shape (array) --> dimension of input images\n",
        "    patch_size (int) --> size of each patch\n",
        "    num_patches (int) --> number of patches per image\n",
        "    projection_dim (int) --> number of neurons in the projection layer\n",
        "    num_heads (int) --> heads for attention layer\n",
        "    transformer_units (int) --> number of layers of the multilayer perceptron\n",
        "    num_classes (int) --> number of classes to be predicted by the model\n",
        "    transformer_layers (int) --> number of layers of vision transformer block\n",
        "\n",
        "  Returns:\n",
        "    model (tensor model) --> vit tensorflow model\n",
        "  '''\n",
        "\n",
        "  # image input layer\n",
        "  inputs = layers.Input(shape = input_shape)\n",
        "  # applying data augmentation to images\n",
        "  augmented = data_augmentation(inputs)\n",
        "  # layer that separates the image by patches\n",
        "  patches = Patches(patch_size = patch_size)(images = augmented)\n",
        "  # vector that stores image patches\n",
        "  encoded_patches = PatchEncoder(num_patches = num_patches, \n",
        "                                 projection_dim = projection_dim)(patches)\n",
        "  \n",
        "  # create multiple layers of the transformer block\n",
        "  for _ in range(transformer_layers):\n",
        "    # data normalization layer\n",
        "    x1 = layers.LayerNormalization(epsilon = 1e-6)(encoded_patches)\n",
        "    # create a multi-head attention layer\n",
        "    attention_output = layers.MultiHeadAttention(\n",
        "      num_heads = num_heads, key_dim = projection_dim, dropout = 0.1)(x1, x1)\n",
        "    # skip connection of encoded patches\n",
        "    x2 = layers.Add()([attention_output, encoded_patches])\n",
        "    # data normalization layer\n",
        "    x3 = layers.LayerNormalization(epsilon = 1e-6)(x2)\n",
        "    # connect a multilayer perceptron\n",
        "    x3 = mlp(x = x3, hidden_units = transformer_units, dropout_rate = 0.1)\n",
        "    # skip connection of x2\n",
        "    encoded_patches = layers.Add()([x3, x2])\n",
        "  \n",
        "  # create a [batch_size, projection_dim] tensor\n",
        "  representation = layers.LayerNormalization(epsilon=1e-6)(encoded_patches)\n",
        "  representation = layers.Flatten()(representation)\n",
        "  representation = layers.Dropout(rate = 0.5)(representation)\n",
        "  # connect a multilayer perceptron\n",
        "  features = mlp(x = representation, hidden_units = mlp_head_units, \n",
        "                 dropout_rate = 0.5)\n",
        "  # classify the output data\n",
        "  logits = layers.Dense(num_classes)(features)\n",
        "  # create the keras model\n",
        "  model = keras.Model(inputs = inputs, outputs = logits)\n",
        "  \n",
        "  return model"
      ],
      "metadata": {
        "id": "eoxeNFvaw--d"
      },
      "execution_count": 36,
      "outputs": []
    },
    {
      "cell_type": "code",
      "source": [
        "model = create_vit_classifier(input_shape = input_shape, \n",
        "                              patch_size = patch_size,\n",
        "                              num_patches = num_patches, \n",
        "                              transformer_layers = transformer_layers,\n",
        "                              projection_dim = projection_dim,\n",
        "                              num_heads = num_heads, \n",
        "                              num_classes = num_classes)"
      ],
      "metadata": {
        "id": "vGRfAy5S59SI"
      },
      "execution_count": 37,
      "outputs": []
    },
    {
      "cell_type": "markdown",
      "metadata": {
        "id": "yr1D2kblPLpY"
      },
      "source": [
        "### Compiling the Model"
      ]
    },
    {
      "cell_type": "code",
      "source": [
        "optimizer = tfa.optimizers.AdamW(learning_rate = learning_rate, \n",
        "                                 weight_decay = weight_decay)\n",
        "loss = keras.losses.SparseCategoricalCrossentropy(from_logits = True)\n",
        "metric1 = keras.metrics.SparseCategoricalAccuracy(name = 'accuracy')\n",
        "metric2 = keras.metrics.SparseTopKCategoricalAccuracy(k = 5, \n",
        "                                                      name = 'top-5-accuracy')\n",
        "model.compile(optimizer = optimizer, loss = loss, metrics = [metric1, metric2])"
      ],
      "metadata": {
        "id": "TOj227fo5IdV"
      },
      "execution_count": 39,
      "outputs": []
    },
    {
      "cell_type": "markdown",
      "source": [
        "### Defining the Model Checkpoint Callback"
      ],
      "metadata": {
        "id": "mSDpF2td_jpE"
      }
    },
    {
      "cell_type": "code",
      "source": [
        "checkpoint_filepath = '/tmp/checkpoint'\n",
        "callback = keras.callbacks.ModelCheckpoint(filepath = checkpoint_filepath,\n",
        "                                           monitor = 'val_accuracy',\n",
        "                                           save_best_only = True,\n",
        "                                           save_weights_only = True)"
      ],
      "metadata": {
        "id": "66B7Lu21_sc1"
      },
      "execution_count": 41,
      "outputs": []
    },
    {
      "cell_type": "markdown",
      "source": [
        "### Training the Model"
      ],
      "metadata": {
        "id": "OoS9DXYVAGDh"
      }
    },
    {
      "cell_type": "code",
      "source": [
        "history = model.fit(x = x_train, y = y_train, batch_size = batch_size,\n",
        "                    epochs = num_epochs, validation_split = 0.1,\n",
        "                    callbacks = [callback])"
      ],
      "metadata": {
        "colab": {
          "base_uri": "https://localhost:8080/"
        },
        "id": "CMPAL59WAKv-",
        "outputId": "a7d53e29-91ad-40c2-9851-56f853cafb48"
      },
      "execution_count": 42,
      "outputs": [
        {
          "output_type": "stream",
          "name": "stdout",
          "text": [
            "Epoch 1/100\n",
            "176/176 [==============================] - 76s 367ms/step - loss: 4.4715 - accuracy: 0.0477 - top-5-accuracy: 0.1643 - val_loss: 3.9106 - val_accuracy: 0.1138 - val_top-5-accuracy: 0.3204\n",
            "Epoch 2/100\n",
            "176/176 [==============================] - 65s 367ms/step - loss: 3.9397 - accuracy: 0.0944 - top-5-accuracy: 0.2922 - val_loss: 3.5816 - val_accuracy: 0.1466 - val_top-5-accuracy: 0.4054\n",
            "Epoch 3/100\n",
            "176/176 [==============================] - 65s 372ms/step - loss: 3.6924 - accuracy: 0.1288 - top-5-accuracy: 0.3665 - val_loss: 3.3256 - val_accuracy: 0.1942 - val_top-5-accuracy: 0.4678\n",
            "Epoch 4/100\n",
            "176/176 [==============================] - 66s 374ms/step - loss: 3.5127 - accuracy: 0.1616 - top-5-accuracy: 0.4191 - val_loss: 3.1966 - val_accuracy: 0.2228 - val_top-5-accuracy: 0.5084\n",
            "Epoch 5/100\n",
            "176/176 [==============================] - 66s 376ms/step - loss: 3.3931 - accuracy: 0.1839 - top-5-accuracy: 0.4524 - val_loss: 3.0590 - val_accuracy: 0.2408 - val_top-5-accuracy: 0.5382\n",
            "Epoch 6/100\n",
            "176/176 [==============================] - 66s 376ms/step - loss: 3.2828 - accuracy: 0.2031 - top-5-accuracy: 0.4862 - val_loss: 2.9687 - val_accuracy: 0.2696 - val_top-5-accuracy: 0.5708\n",
            "Epoch 7/100\n",
            "176/176 [==============================] - 66s 376ms/step - loss: 3.1715 - accuracy: 0.2242 - top-5-accuracy: 0.5140 - val_loss: 2.8810 - val_accuracy: 0.2826 - val_top-5-accuracy: 0.5810\n",
            "Epoch 8/100\n",
            "176/176 [==============================] - 66s 376ms/step - loss: 3.0817 - accuracy: 0.2426 - top-5-accuracy: 0.5342 - val_loss: 2.8148 - val_accuracy: 0.2950 - val_top-5-accuracy: 0.6062\n",
            "Epoch 9/100\n",
            "176/176 [==============================] - 66s 376ms/step - loss: 2.9802 - accuracy: 0.2607 - top-5-accuracy: 0.5596 - val_loss: 2.7414 - val_accuracy: 0.3198 - val_top-5-accuracy: 0.6200\n",
            "Epoch 10/100\n",
            "176/176 [==============================] - 66s 376ms/step - loss: 2.8938 - accuracy: 0.2784 - top-5-accuracy: 0.5834 - val_loss: 2.6509 - val_accuracy: 0.3296 - val_top-5-accuracy: 0.6360\n",
            "Epoch 11/100\n",
            "176/176 [==============================] - 66s 377ms/step - loss: 2.7990 - accuracy: 0.2944 - top-5-accuracy: 0.6055 - val_loss: 2.5579 - val_accuracy: 0.3528 - val_top-5-accuracy: 0.6536\n",
            "Epoch 12/100\n",
            "176/176 [==============================] - 66s 376ms/step - loss: 2.7172 - accuracy: 0.3117 - top-5-accuracy: 0.6229 - val_loss: 2.4813 - val_accuracy: 0.3704 - val_top-5-accuracy: 0.6724\n",
            "Epoch 13/100\n",
            "176/176 [==============================] - 66s 373ms/step - loss: 2.6430 - accuracy: 0.3297 - top-5-accuracy: 0.6399 - val_loss: 2.4513 - val_accuracy: 0.3696 - val_top-5-accuracy: 0.6758\n",
            "Epoch 14/100\n",
            "176/176 [==============================] - 66s 377ms/step - loss: 2.5560 - accuracy: 0.3423 - top-5-accuracy: 0.6607 - val_loss: 2.3962 - val_accuracy: 0.3854 - val_top-5-accuracy: 0.6870\n",
            "Epoch 15/100\n",
            "176/176 [==============================] - 66s 377ms/step - loss: 2.4940 - accuracy: 0.3589 - top-5-accuracy: 0.6744 - val_loss: 2.3416 - val_accuracy: 0.3926 - val_top-5-accuracy: 0.7008\n",
            "Epoch 16/100\n",
            "176/176 [==============================] - 66s 376ms/step - loss: 2.4230 - accuracy: 0.3734 - top-5-accuracy: 0.6902 - val_loss: 2.3065 - val_accuracy: 0.3998 - val_top-5-accuracy: 0.7082\n",
            "Epoch 17/100\n",
            "176/176 [==============================] - 66s 376ms/step - loss: 2.3582 - accuracy: 0.3869 - top-5-accuracy: 0.7029 - val_loss: 2.2349 - val_accuracy: 0.4176 - val_top-5-accuracy: 0.7214\n",
            "Epoch 18/100\n",
            "176/176 [==============================] - 66s 376ms/step - loss: 2.2970 - accuracy: 0.3966 - top-5-accuracy: 0.7167 - val_loss: 2.2405 - val_accuracy: 0.4216 - val_top-5-accuracy: 0.7150\n",
            "Epoch 19/100\n",
            "176/176 [==============================] - 66s 376ms/step - loss: 2.2433 - accuracy: 0.4091 - top-5-accuracy: 0.7253 - val_loss: 2.2006 - val_accuracy: 0.4288 - val_top-5-accuracy: 0.7276\n",
            "Epoch 20/100\n",
            "176/176 [==============================] - 66s 376ms/step - loss: 2.1773 - accuracy: 0.4218 - top-5-accuracy: 0.7408 - val_loss: 2.1183 - val_accuracy: 0.4450 - val_top-5-accuracy: 0.7382\n",
            "Epoch 21/100\n",
            "176/176 [==============================] - 66s 376ms/step - loss: 2.1199 - accuracy: 0.4383 - top-5-accuracy: 0.7500 - val_loss: 2.0913 - val_accuracy: 0.4462 - val_top-5-accuracy: 0.7558\n",
            "Epoch 22/100\n",
            "176/176 [==============================] - 66s 376ms/step - loss: 2.0580 - accuracy: 0.4516 - top-5-accuracy: 0.7629 - val_loss: 2.1093 - val_accuracy: 0.4468 - val_top-5-accuracy: 0.7494\n",
            "Epoch 23/100\n",
            "176/176 [==============================] - 66s 376ms/step - loss: 2.0196 - accuracy: 0.4594 - top-5-accuracy: 0.7705 - val_loss: 2.0395 - val_accuracy: 0.4626 - val_top-5-accuracy: 0.7590\n",
            "Epoch 24/100\n",
            "176/176 [==============================] - 66s 377ms/step - loss: 1.9591 - accuracy: 0.4720 - top-5-accuracy: 0.7825 - val_loss: 2.0112 - val_accuracy: 0.4682 - val_top-5-accuracy: 0.7674\n",
            "Epoch 25/100\n",
            "176/176 [==============================] - 66s 377ms/step - loss: 1.9252 - accuracy: 0.4792 - top-5-accuracy: 0.7883 - val_loss: 1.9770 - val_accuracy: 0.4746 - val_top-5-accuracy: 0.7716\n",
            "Epoch 26/100\n",
            "176/176 [==============================] - 66s 373ms/step - loss: 1.8839 - accuracy: 0.4916 - top-5-accuracy: 0.7963 - val_loss: 1.9871 - val_accuracy: 0.4742 - val_top-5-accuracy: 0.7678\n",
            "Epoch 27/100\n",
            "176/176 [==============================] - 66s 373ms/step - loss: 1.8484 - accuracy: 0.4992 - top-5-accuracy: 0.8032 - val_loss: 1.9903 - val_accuracy: 0.4736 - val_top-5-accuracy: 0.7708\n",
            "Epoch 28/100\n",
            "176/176 [==============================] - 66s 376ms/step - loss: 1.7987 - accuracy: 0.5110 - top-5-accuracy: 0.8122 - val_loss: 1.9720 - val_accuracy: 0.4760 - val_top-5-accuracy: 0.7760\n",
            "Epoch 29/100\n",
            "176/176 [==============================] - 66s 377ms/step - loss: 1.7574 - accuracy: 0.5178 - top-5-accuracy: 0.8186 - val_loss: 1.9228 - val_accuracy: 0.4912 - val_top-5-accuracy: 0.7834\n",
            "Epoch 30/100\n",
            "176/176 [==============================] - 66s 373ms/step - loss: 1.7067 - accuracy: 0.5307 - top-5-accuracy: 0.8294 - val_loss: 1.9530 - val_accuracy: 0.4856 - val_top-5-accuracy: 0.7772\n",
            "Epoch 31/100\n",
            "176/176 [==============================] - 66s 377ms/step - loss: 1.6802 - accuracy: 0.5343 - top-5-accuracy: 0.8346 - val_loss: 1.8947 - val_accuracy: 0.4978 - val_top-5-accuracy: 0.7844\n",
            "Epoch 32/100\n",
            "176/176 [==============================] - 66s 377ms/step - loss: 1.6461 - accuracy: 0.5404 - top-5-accuracy: 0.8406 - val_loss: 1.8873 - val_accuracy: 0.5002 - val_top-5-accuracy: 0.7938\n",
            "Epoch 33/100\n",
            "176/176 [==============================] - 66s 373ms/step - loss: 1.6232 - accuracy: 0.5493 - top-5-accuracy: 0.8440 - val_loss: 1.8974 - val_accuracy: 0.4988 - val_top-5-accuracy: 0.7836\n",
            "Epoch 34/100\n",
            "176/176 [==============================] - 66s 377ms/step - loss: 1.5805 - accuracy: 0.5600 - top-5-accuracy: 0.8500 - val_loss: 1.8646 - val_accuracy: 0.5138 - val_top-5-accuracy: 0.7958\n",
            "Epoch 35/100\n",
            "176/176 [==============================] - 66s 373ms/step - loss: 1.5536 - accuracy: 0.5656 - top-5-accuracy: 0.8551 - val_loss: 1.8874 - val_accuracy: 0.5052 - val_top-5-accuracy: 0.7974\n",
            "Epoch 36/100\n",
            "176/176 [==============================] - 66s 373ms/step - loss: 1.5230 - accuracy: 0.5728 - top-5-accuracy: 0.8610 - val_loss: 1.8798 - val_accuracy: 0.5076 - val_top-5-accuracy: 0.7946\n",
            "Epoch 37/100\n",
            "176/176 [==============================] - 66s 377ms/step - loss: 1.4875 - accuracy: 0.5804 - top-5-accuracy: 0.8653 - val_loss: 1.8377 - val_accuracy: 0.5144 - val_top-5-accuracy: 0.8008\n",
            "Epoch 38/100\n",
            "176/176 [==============================] - 66s 373ms/step - loss: 1.4631 - accuracy: 0.5848 - top-5-accuracy: 0.8711 - val_loss: 1.8455 - val_accuracy: 0.5106 - val_top-5-accuracy: 0.8040\n",
            "Epoch 39/100\n",
            "176/176 [==============================] - 66s 373ms/step - loss: 1.4352 - accuracy: 0.5943 - top-5-accuracy: 0.8719 - val_loss: 1.8778 - val_accuracy: 0.5120 - val_top-5-accuracy: 0.7948\n",
            "Epoch 40/100\n",
            "176/176 [==============================] - 66s 377ms/step - loss: 1.4118 - accuracy: 0.5995 - top-5-accuracy: 0.8781 - val_loss: 1.8595 - val_accuracy: 0.5164 - val_top-5-accuracy: 0.7950\n",
            "Epoch 41/100\n",
            "176/176 [==============================] - 66s 377ms/step - loss: 1.3915 - accuracy: 0.6029 - top-5-accuracy: 0.8820 - val_loss: 1.8480 - val_accuracy: 0.5172 - val_top-5-accuracy: 0.8036\n",
            "Epoch 42/100\n",
            "176/176 [==============================] - 67s 378ms/step - loss: 1.3635 - accuracy: 0.6105 - top-5-accuracy: 0.8860 - val_loss: 1.8404 - val_accuracy: 0.5198 - val_top-5-accuracy: 0.8052\n",
            "Epoch 43/100\n",
            "176/176 [==============================] - 66s 376ms/step - loss: 1.3435 - accuracy: 0.6156 - top-5-accuracy: 0.8885 - val_loss: 1.8426 - val_accuracy: 0.5266 - val_top-5-accuracy: 0.8106\n",
            "Epoch 44/100\n",
            "176/176 [==============================] - 66s 376ms/step - loss: 1.3209 - accuracy: 0.6208 - top-5-accuracy: 0.8936 - val_loss: 1.7997 - val_accuracy: 0.5298 - val_top-5-accuracy: 0.8160\n",
            "Epoch 45/100\n",
            "176/176 [==============================] - 66s 373ms/step - loss: 1.2993 - accuracy: 0.6244 - top-5-accuracy: 0.8956 - val_loss: 1.8187 - val_accuracy: 0.5272 - val_top-5-accuracy: 0.8076\n",
            "Epoch 46/100\n",
            "176/176 [==============================] - 66s 373ms/step - loss: 1.2677 - accuracy: 0.6367 - top-5-accuracy: 0.8996 - val_loss: 1.8561 - val_accuracy: 0.5228 - val_top-5-accuracy: 0.8082\n",
            "Epoch 47/100\n",
            "176/176 [==============================] - 66s 373ms/step - loss: 1.2609 - accuracy: 0.6357 - top-5-accuracy: 0.9030 - val_loss: 1.8513 - val_accuracy: 0.5244 - val_top-5-accuracy: 0.8088\n",
            "Epoch 48/100\n",
            "176/176 [==============================] - 66s 377ms/step - loss: 1.2388 - accuracy: 0.6432 - top-5-accuracy: 0.9040 - val_loss: 1.7912 - val_accuracy: 0.5384 - val_top-5-accuracy: 0.8134\n",
            "Epoch 49/100\n",
            "176/176 [==============================] - 66s 373ms/step - loss: 1.2065 - accuracy: 0.6496 - top-5-accuracy: 0.9078 - val_loss: 1.8224 - val_accuracy: 0.5300 - val_top-5-accuracy: 0.8136\n",
            "Epoch 50/100\n",
            "176/176 [==============================] - 66s 374ms/step - loss: 1.2030 - accuracy: 0.6531 - top-5-accuracy: 0.9099 - val_loss: 1.8457 - val_accuracy: 0.5278 - val_top-5-accuracy: 0.8126\n",
            "Epoch 51/100\n",
            "176/176 [==============================] - 66s 373ms/step - loss: 1.1823 - accuracy: 0.6552 - top-5-accuracy: 0.9119 - val_loss: 1.8213 - val_accuracy: 0.5348 - val_top-5-accuracy: 0.8138\n",
            "Epoch 52/100\n",
            "176/176 [==============================] - 66s 373ms/step - loss: 1.1749 - accuracy: 0.6588 - top-5-accuracy: 0.9156 - val_loss: 1.8320 - val_accuracy: 0.5316 - val_top-5-accuracy: 0.8116\n",
            "Epoch 53/100\n",
            "176/176 [==============================] - 66s 373ms/step - loss: 1.1358 - accuracy: 0.6673 - top-5-accuracy: 0.9184 - val_loss: 1.8599 - val_accuracy: 0.5214 - val_top-5-accuracy: 0.8054\n",
            "Epoch 54/100\n",
            "176/176 [==============================] - 66s 373ms/step - loss: 1.1510 - accuracy: 0.6633 - top-5-accuracy: 0.9190 - val_loss: 1.8625 - val_accuracy: 0.5250 - val_top-5-accuracy: 0.8072\n",
            "Epoch 55/100\n",
            "176/176 [==============================] - 66s 373ms/step - loss: 1.1234 - accuracy: 0.6716 - top-5-accuracy: 0.9207 - val_loss: 1.8386 - val_accuracy: 0.5352 - val_top-5-accuracy: 0.8094\n",
            "Epoch 56/100\n",
            "176/176 [==============================] - 66s 377ms/step - loss: 1.1136 - accuracy: 0.6754 - top-5-accuracy: 0.9211 - val_loss: 1.7987 - val_accuracy: 0.5396 - val_top-5-accuracy: 0.8138\n",
            "Epoch 57/100\n",
            "176/176 [==============================] - 66s 373ms/step - loss: 1.0831 - accuracy: 0.6799 - top-5-accuracy: 0.9269 - val_loss: 1.8373 - val_accuracy: 0.5368 - val_top-5-accuracy: 0.8074\n",
            "Epoch 58/100\n",
            "176/176 [==============================] - 66s 377ms/step - loss: 1.0758 - accuracy: 0.6842 - top-5-accuracy: 0.9270 - val_loss: 1.8425 - val_accuracy: 0.5442 - val_top-5-accuracy: 0.8062\n",
            "Epoch 59/100\n",
            "176/176 [==============================] - 66s 373ms/step - loss: 1.0664 - accuracy: 0.6868 - top-5-accuracy: 0.9269 - val_loss: 1.8459 - val_accuracy: 0.5440 - val_top-5-accuracy: 0.8136\n",
            "Epoch 60/100\n",
            "176/176 [==============================] - 66s 377ms/step - loss: 1.0601 - accuracy: 0.6881 - top-5-accuracy: 0.9288 - val_loss: 1.8319 - val_accuracy: 0.5446 - val_top-5-accuracy: 0.8138\n",
            "Epoch 61/100\n",
            "176/176 [==============================] - 66s 373ms/step - loss: 1.0364 - accuracy: 0.6930 - top-5-accuracy: 0.9314 - val_loss: 1.8403 - val_accuracy: 0.5374 - val_top-5-accuracy: 0.8152\n",
            "Epoch 62/100\n",
            "176/176 [==============================] - 66s 373ms/step - loss: 1.0390 - accuracy: 0.6931 - top-5-accuracy: 0.9323 - val_loss: 1.8487 - val_accuracy: 0.5444 - val_top-5-accuracy: 0.8108\n",
            "Epoch 63/100\n",
            "176/176 [==============================] - 66s 373ms/step - loss: 1.0164 - accuracy: 0.6999 - top-5-accuracy: 0.9338 - val_loss: 1.8601 - val_accuracy: 0.5400 - val_top-5-accuracy: 0.8180\n",
            "Epoch 64/100\n",
            "176/176 [==============================] - 66s 373ms/step - loss: 1.0033 - accuracy: 0.7027 - top-5-accuracy: 0.9364 - val_loss: 1.8717 - val_accuracy: 0.5350 - val_top-5-accuracy: 0.8122\n",
            "Epoch 65/100\n",
            "176/176 [==============================] - 66s 373ms/step - loss: 0.9915 - accuracy: 0.7079 - top-5-accuracy: 0.9379 - val_loss: 1.8561 - val_accuracy: 0.5390 - val_top-5-accuracy: 0.8208\n",
            "Epoch 66/100\n",
            "176/176 [==============================] - 66s 373ms/step - loss: 0.9893 - accuracy: 0.7065 - top-5-accuracy: 0.9379 - val_loss: 1.8615 - val_accuracy: 0.5412 - val_top-5-accuracy: 0.8090\n",
            "Epoch 67/100\n",
            "176/176 [==============================] - 66s 373ms/step - loss: 0.9792 - accuracy: 0.7090 - top-5-accuracy: 0.9394 - val_loss: 1.8747 - val_accuracy: 0.5346 - val_top-5-accuracy: 0.8108\n",
            "Epoch 68/100\n",
            "176/176 [==============================] - 66s 373ms/step - loss: 0.9770 - accuracy: 0.7079 - top-5-accuracy: 0.9393 - val_loss: 1.8588 - val_accuracy: 0.5428 - val_top-5-accuracy: 0.8170\n",
            "Epoch 69/100\n",
            "176/176 [==============================] - 66s 374ms/step - loss: 0.9563 - accuracy: 0.7154 - top-5-accuracy: 0.9421 - val_loss: 1.8795 - val_accuracy: 0.5436 - val_top-5-accuracy: 0.8206\n",
            "Epoch 70/100\n",
            "176/176 [==============================] - 66s 374ms/step - loss: 0.9395 - accuracy: 0.7215 - top-5-accuracy: 0.9441 - val_loss: 1.8399 - val_accuracy: 0.5434 - val_top-5-accuracy: 0.8222\n",
            "Epoch 71/100\n",
            "176/176 [==============================] - 66s 374ms/step - loss: 0.9330 - accuracy: 0.7225 - top-5-accuracy: 0.9455 - val_loss: 1.8647 - val_accuracy: 0.5368 - val_top-5-accuracy: 0.8130\n",
            "Epoch 72/100\n",
            "176/176 [==============================] - 66s 373ms/step - loss: 0.9359 - accuracy: 0.7235 - top-5-accuracy: 0.9440 - val_loss: 1.8526 - val_accuracy: 0.5378 - val_top-5-accuracy: 0.8114\n",
            "Epoch 73/100\n",
            "176/176 [==============================] - 66s 373ms/step - loss: 0.9308 - accuracy: 0.7231 - top-5-accuracy: 0.9448 - val_loss: 1.8703 - val_accuracy: 0.5390 - val_top-5-accuracy: 0.8174\n",
            "Epoch 74/100\n",
            "176/176 [==============================] - 66s 377ms/step - loss: 0.9108 - accuracy: 0.7290 - top-5-accuracy: 0.9483 - val_loss: 1.8760 - val_accuracy: 0.5452 - val_top-5-accuracy: 0.8154\n",
            "Epoch 75/100\n",
            "176/176 [==============================] - 66s 374ms/step - loss: 0.9073 - accuracy: 0.7315 - top-5-accuracy: 0.9463 - val_loss: 1.8849 - val_accuracy: 0.5386 - val_top-5-accuracy: 0.8166\n",
            "Epoch 76/100\n",
            "176/176 [==============================] - 66s 377ms/step - loss: 0.9049 - accuracy: 0.7309 - top-5-accuracy: 0.9473 - val_loss: 1.8556 - val_accuracy: 0.5456 - val_top-5-accuracy: 0.8232\n",
            "Epoch 77/100\n",
            "176/176 [==============================] - 66s 373ms/step - loss: 0.8909 - accuracy: 0.7335 - top-5-accuracy: 0.9501 - val_loss: 1.8669 - val_accuracy: 0.5418 - val_top-5-accuracy: 0.8196\n",
            "Epoch 78/100\n",
            "176/176 [==============================] - 66s 374ms/step - loss: 0.8757 - accuracy: 0.7394 - top-5-accuracy: 0.9502 - val_loss: 1.9156 - val_accuracy: 0.5424 - val_top-5-accuracy: 0.8168\n",
            "Epoch 79/100\n",
            "176/176 [==============================] - 66s 374ms/step - loss: 0.8780 - accuracy: 0.7373 - top-5-accuracy: 0.9499 - val_loss: 1.8833 - val_accuracy: 0.5334 - val_top-5-accuracy: 0.8156\n",
            "Epoch 80/100\n",
            "176/176 [==============================] - 66s 378ms/step - loss: 0.8708 - accuracy: 0.7396 - top-5-accuracy: 0.9512 - val_loss: 1.8809 - val_accuracy: 0.5486 - val_top-5-accuracy: 0.8198\n",
            "Epoch 81/100\n",
            "176/176 [==============================] - 66s 373ms/step - loss: 0.8604 - accuracy: 0.7450 - top-5-accuracy: 0.9519 - val_loss: 1.8904 - val_accuracy: 0.5412 - val_top-5-accuracy: 0.8158\n",
            "Epoch 82/100\n",
            "176/176 [==============================] - 66s 373ms/step - loss: 0.8643 - accuracy: 0.7407 - top-5-accuracy: 0.9525 - val_loss: 1.9601 - val_accuracy: 0.5348 - val_top-5-accuracy: 0.8120\n",
            "Epoch 83/100\n",
            "176/176 [==============================] - 66s 373ms/step - loss: 0.8617 - accuracy: 0.7422 - top-5-accuracy: 0.9515 - val_loss: 1.8945 - val_accuracy: 0.5418 - val_top-5-accuracy: 0.8126\n",
            "Epoch 84/100\n",
            "176/176 [==============================] - 66s 373ms/step - loss: 0.8572 - accuracy: 0.7434 - top-5-accuracy: 0.9525 - val_loss: 1.8658 - val_accuracy: 0.5442 - val_top-5-accuracy: 0.8156\n",
            "Epoch 85/100\n",
            "176/176 [==============================] - 66s 373ms/step - loss: 0.8536 - accuracy: 0.7455 - top-5-accuracy: 0.9542 - val_loss: 1.9288 - val_accuracy: 0.5396 - val_top-5-accuracy: 0.8198\n",
            "Epoch 86/100\n",
            "176/176 [==============================] - 66s 373ms/step - loss: 0.8351 - accuracy: 0.7502 - top-5-accuracy: 0.9568 - val_loss: 1.8986 - val_accuracy: 0.5468 - val_top-5-accuracy: 0.8188\n",
            "Epoch 87/100\n",
            "176/176 [==============================] - 66s 373ms/step - loss: 0.8391 - accuracy: 0.7486 - top-5-accuracy: 0.9549 - val_loss: 1.8919 - val_accuracy: 0.5386 - val_top-5-accuracy: 0.8114\n",
            "Epoch 88/100\n",
            "176/176 [==============================] - 66s 373ms/step - loss: 0.8386 - accuracy: 0.7479 - top-5-accuracy: 0.9550 - val_loss: 1.9273 - val_accuracy: 0.5352 - val_top-5-accuracy: 0.8118\n",
            "Epoch 89/100\n",
            "176/176 [==============================] - 66s 374ms/step - loss: 0.8204 - accuracy: 0.7536 - top-5-accuracy: 0.9567 - val_loss: 1.9033 - val_accuracy: 0.5364 - val_top-5-accuracy: 0.8180\n",
            "Epoch 90/100\n",
            "176/176 [==============================] - 66s 373ms/step - loss: 0.8253 - accuracy: 0.7537 - top-5-accuracy: 0.9547 - val_loss: 1.9329 - val_accuracy: 0.5384 - val_top-5-accuracy: 0.8122\n",
            "Epoch 91/100\n",
            "176/176 [==============================] - 66s 373ms/step - loss: 0.8065 - accuracy: 0.7572 - top-5-accuracy: 0.9586 - val_loss: 1.8972 - val_accuracy: 0.5442 - val_top-5-accuracy: 0.8146\n",
            "Epoch 92/100\n",
            "176/176 [==============================] - 66s 373ms/step - loss: 0.8202 - accuracy: 0.7556 - top-5-accuracy: 0.9566 - val_loss: 1.9807 - val_accuracy: 0.5402 - val_top-5-accuracy: 0.8098\n",
            "Epoch 93/100\n",
            "176/176 [==============================] - 66s 374ms/step - loss: 0.8133 - accuracy: 0.7568 - top-5-accuracy: 0.9570 - val_loss: 1.9212 - val_accuracy: 0.5368 - val_top-5-accuracy: 0.8150\n",
            "Epoch 94/100\n",
            "176/176 [==============================] - 66s 374ms/step - loss: 0.8044 - accuracy: 0.7589 - top-5-accuracy: 0.9589 - val_loss: 1.9332 - val_accuracy: 0.5380 - val_top-5-accuracy: 0.8124\n",
            "Epoch 95/100\n",
            "176/176 [==============================] - 66s 378ms/step - loss: 0.7936 - accuracy: 0.7624 - top-5-accuracy: 0.9594 - val_loss: 1.8842 - val_accuracy: 0.5502 - val_top-5-accuracy: 0.8176\n",
            "Epoch 96/100\n",
            "176/176 [==============================] - 66s 374ms/step - loss: 0.7925 - accuracy: 0.7607 - top-5-accuracy: 0.9599 - val_loss: 1.9013 - val_accuracy: 0.5434 - val_top-5-accuracy: 0.8130\n",
            "Epoch 97/100\n",
            "176/176 [==============================] - 66s 374ms/step - loss: 0.7898 - accuracy: 0.7615 - top-5-accuracy: 0.9603 - val_loss: 1.9061 - val_accuracy: 0.5444 - val_top-5-accuracy: 0.8122\n",
            "Epoch 98/100\n",
            "176/176 [==============================] - 66s 374ms/step - loss: 0.7915 - accuracy: 0.7636 - top-5-accuracy: 0.9586 - val_loss: 2.0054 - val_accuracy: 0.5396 - val_top-5-accuracy: 0.8092\n",
            "Epoch 99/100\n",
            "176/176 [==============================] - 66s 374ms/step - loss: 0.7866 - accuracy: 0.7643 - top-5-accuracy: 0.9598 - val_loss: 1.9023 - val_accuracy: 0.5438 - val_top-5-accuracy: 0.8154\n",
            "Epoch 100/100\n",
            "176/176 [==============================] - 66s 373ms/step - loss: 0.7858 - accuracy: 0.7664 - top-5-accuracy: 0.9595 - val_loss: 1.8905 - val_accuracy: 0.5478 - val_top-5-accuracy: 0.8132\n"
          ]
        }
      ]
    },
    {
      "cell_type": "markdown",
      "source": [
        "### Model Evaluation Metrics"
      ],
      "metadata": {
        "id": "TAqRU5t0CZDE"
      }
    },
    {
      "cell_type": "code",
      "source": [
        "model.load_weights(checkpoint_filepath)\n",
        "_, accuracy, top_5_accuracy = model.evaluate(x_test, y_test)\n",
        "\n",
        "print(f'Test Accuracy (100 Classes): {round(accuracy * 100, 2)}%')\n",
        "print(f'Test Top 5 Classes Accuracy: {round(top_5_accuracy * 100, 2)}%')"
      ],
      "metadata": {
        "colab": {
          "base_uri": "https://localhost:8080/"
        },
        "id": "dfdB6rr7CW8N",
        "outputId": "6ffd98df-9f20-4942-affb-110bb48048e0"
      },
      "execution_count": 44,
      "outputs": [
        {
          "output_type": "stream",
          "name": "stdout",
          "text": [
            "313/313 [==============================] - 6s 21ms/step - loss: 1.8531 - accuracy: 0.5522 - top-5-accuracy: 0.8147\n",
            "Test Accuracy (100 Classes): 55.22%\n",
            "Test Top 5 Classes Accuracy: 81.47%\n"
          ]
        }
      ]
    }
  ],
  "metadata": {
    "colab": {
      "collapsed_sections": [],
      "name": "vision_transformer.ipynb",
      "provenance": [],
      "toc_visible": true,
      "machine_shape": "hm"
    },
    "environment": {
      "name": "tf2-gpu.2-4.m61",
      "type": "gcloud",
      "uri": "gcr.io/deeplearning-platform-release/tf2-gpu.2-4:m61"
    },
    "kernelspec": {
      "display_name": "Python 3",
      "language": "python",
      "name": "python3"
    },
    "language_info": {
      "codemirror_mode": {
        "name": "ipython",
        "version": 3
      },
      "file_extension": ".py",
      "mimetype": "text/x-python",
      "name": "python",
      "nbconvert_exporter": "python",
      "pygments_lexer": "ipython3",
      "version": "3.7.9"
    },
    "accelerator": "GPU"
  },
  "nbformat": 4,
  "nbformat_minor": 0
}